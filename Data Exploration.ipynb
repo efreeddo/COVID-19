{
  "nbformat": 4,
  "nbformat_minor": 0,
  "metadata": {
    "colab": {
      "name": "Data Exploration.ipynb",
      "provenance": [],
      "authorship_tag": "ABX9TyMekmWaXoNJoiHe8Sz4L/MR",
      "include_colab_link": true
    },
    "kernelspec": {
      "name": "python3",
      "display_name": "Python 3"
    }
  },
  "cells": [
    {
      "cell_type": "markdown",
      "metadata": {
        "id": "view-in-github",
        "colab_type": "text"
      },
      "source": [
        "<a href=\"https://colab.research.google.com/github/efreeddo/COVID-19/blob/master/Data%20Exploration.ipynb\" target=\"_parent\"><img src=\"https://colab.research.google.com/assets/colab-badge.svg\" alt=\"Open In Colab\"/></a>"
      ]
    },
    {
      "cell_type": "code",
      "metadata": {
        "id": "7_ud7qf5_SDA",
        "colab_type": "code",
        "colab": {}
      },
      "source": [
        "import pandas as pd"
      ],
      "execution_count": 0,
      "outputs": []
    },
    {
      "cell_type": "code",
      "metadata": {
        "id": "-Q2w1C_YBAwt",
        "colab_type": "code",
        "colab": {
          "resources": {
            "http://localhost:8080/nbextensions/google.colab/files.js": {
              "data": "Ly8gQ29weXJpZ2h0IDIwMTcgR29vZ2xlIExMQwovLwovLyBMaWNlbnNlZCB1bmRlciB0aGUgQXBhY2hlIExpY2Vuc2UsIFZlcnNpb24gMi4wICh0aGUgIkxpY2Vuc2UiKTsKLy8geW91IG1heSBub3QgdXNlIHRoaXMgZmlsZSBleGNlcHQgaW4gY29tcGxpYW5jZSB3aXRoIHRoZSBMaWNlbnNlLgovLyBZb3UgbWF5IG9idGFpbiBhIGNvcHkgb2YgdGhlIExpY2Vuc2UgYXQKLy8KLy8gICAgICBodHRwOi8vd3d3LmFwYWNoZS5vcmcvbGljZW5zZXMvTElDRU5TRS0yLjAKLy8KLy8gVW5sZXNzIHJlcXVpcmVkIGJ5IGFwcGxpY2FibGUgbGF3IG9yIGFncmVlZCB0byBpbiB3cml0aW5nLCBzb2Z0d2FyZQovLyBkaXN0cmlidXRlZCB1bmRlciB0aGUgTGljZW5zZSBpcyBkaXN0cmlidXRlZCBvbiBhbiAiQVMgSVMiIEJBU0lTLAovLyBXSVRIT1VUIFdBUlJBTlRJRVMgT1IgQ09ORElUSU9OUyBPRiBBTlkgS0lORCwgZWl0aGVyIGV4cHJlc3Mgb3IgaW1wbGllZC4KLy8gU2VlIHRoZSBMaWNlbnNlIGZvciB0aGUgc3BlY2lmaWMgbGFuZ3VhZ2UgZ292ZXJuaW5nIHBlcm1pc3Npb25zIGFuZAovLyBsaW1pdGF0aW9ucyB1bmRlciB0aGUgTGljZW5zZS4KCi8qKgogKiBAZmlsZW92ZXJ2aWV3IEhlbHBlcnMgZm9yIGdvb2dsZS5jb2xhYiBQeXRob24gbW9kdWxlLgogKi8KKGZ1bmN0aW9uKHNjb3BlKSB7CmZ1bmN0aW9uIHNwYW4odGV4dCwgc3R5bGVBdHRyaWJ1dGVzID0ge30pIHsKICBjb25zdCBlbGVtZW50ID0gZG9jdW1lbnQuY3JlYXRlRWxlbWVudCgnc3BhbicpOwogIGVsZW1lbnQudGV4dENvbnRlbnQgPSB0ZXh0OwogIGZvciAoY29uc3Qga2V5IG9mIE9iamVjdC5rZXlzKHN0eWxlQXR0cmlidXRlcykpIHsKICAgIGVsZW1lbnQuc3R5bGVba2V5XSA9IHN0eWxlQXR0cmlidXRlc1trZXldOwogIH0KICByZXR1cm4gZWxlbWVudDsKfQoKLy8gTWF4IG51bWJlciBvZiBieXRlcyB3aGljaCB3aWxsIGJlIHVwbG9hZGVkIGF0IGEgdGltZS4KY29uc3QgTUFYX1BBWUxPQURfU0laRSA9IDEwMCAqIDEwMjQ7Ci8vIE1heCBhbW91bnQgb2YgdGltZSB0byBibG9jayB3YWl0aW5nIGZvciB0aGUgdXNlci4KY29uc3QgRklMRV9DSEFOR0VfVElNRU9VVF9NUyA9IDMwICogMTAwMDsKCmZ1bmN0aW9uIF91cGxvYWRGaWxlcyhpbnB1dElkLCBvdXRwdXRJZCkgewogIGNvbnN0IHN0ZXBzID0gdXBsb2FkRmlsZXNTdGVwKGlucHV0SWQsIG91dHB1dElkKTsKICBjb25zdCBvdXRwdXRFbGVtZW50ID0gZG9jdW1lbnQuZ2V0RWxlbWVudEJ5SWQob3V0cHV0SWQpOwogIC8vIENhY2hlIHN0ZXBzIG9uIHRoZSBvdXRwdXRFbGVtZW50IHRvIG1ha2UgaXQgYXZhaWxhYmxlIGZvciB0aGUgbmV4dCBjYWxsCiAgLy8gdG8gdXBsb2FkRmlsZXNDb250aW51ZSBmcm9tIFB5dGhvbi4KICBvdXRwdXRFbGVtZW50LnN0ZXBzID0gc3RlcHM7CgogIHJldHVybiBfdXBsb2FkRmlsZXNDb250aW51ZShvdXRwdXRJZCk7Cn0KCi8vIFRoaXMgaXMgcm91Z2hseSBhbiBhc3luYyBnZW5lcmF0b3IgKG5vdCBzdXBwb3J0ZWQgaW4gdGhlIGJyb3dzZXIgeWV0KSwKLy8gd2hlcmUgdGhlcmUgYXJlIG11bHRpcGxlIGFzeW5jaHJvbm91cyBzdGVwcyBhbmQgdGhlIFB5dGhvbiBzaWRlIGlzIGdvaW5nCi8vIHRvIHBvbGwgZm9yIGNvbXBsZXRpb24gb2YgZWFjaCBzdGVwLgovLyBUaGlzIHVzZXMgYSBQcm9taXNlIHRvIGJsb2NrIHRoZSBweXRob24gc2lkZSBvbiBjb21wbGV0aW9uIG9mIGVhY2ggc3RlcCwKLy8gdGhlbiBwYXNzZXMgdGhlIHJlc3VsdCBvZiB0aGUgcHJldmlvdXMgc3RlcCBhcyB0aGUgaW5wdXQgdG8gdGhlIG5leHQgc3RlcC4KZnVuY3Rpb24gX3VwbG9hZEZpbGVzQ29udGludWUob3V0cHV0SWQpIHsKICBjb25zdCBvdXRwdXRFbGVtZW50ID0gZG9jdW1lbnQuZ2V0RWxlbWVudEJ5SWQob3V0cHV0SWQpOwogIGNvbnN0IHN0ZXBzID0gb3V0cHV0RWxlbWVudC5zdGVwczsKCiAgY29uc3QgbmV4dCA9IHN0ZXBzLm5leHQob3V0cHV0RWxlbWVudC5sYXN0UHJvbWlzZVZhbHVlKTsKICByZXR1cm4gUHJvbWlzZS5yZXNvbHZlKG5leHQudmFsdWUucHJvbWlzZSkudGhlbigodmFsdWUpID0+IHsKICAgIC8vIENhY2hlIHRoZSBsYXN0IHByb21pc2UgdmFsdWUgdG8gbWFrZSBpdCBhdmFpbGFibGUgdG8gdGhlIG5leHQKICAgIC8vIHN0ZXAgb2YgdGhlIGdlbmVyYXRvci4KICAgIG91dHB1dEVsZW1lbnQubGFzdFByb21pc2VWYWx1ZSA9IHZhbHVlOwogICAgcmV0dXJuIG5leHQudmFsdWUucmVzcG9uc2U7CiAgfSk7Cn0KCi8qKgogKiBHZW5lcmF0b3IgZnVuY3Rpb24gd2hpY2ggaXMgY2FsbGVkIGJldHdlZW4gZWFjaCBhc3luYyBzdGVwIG9mIHRoZSB1cGxvYWQKICogcHJvY2Vzcy4KICogQHBhcmFtIHtzdHJpbmd9IGlucHV0SWQgRWxlbWVudCBJRCBvZiB0aGUgaW5wdXQgZmlsZSBwaWNrZXIgZWxlbWVudC4KICogQHBhcmFtIHtzdHJpbmd9IG91dHB1dElkIEVsZW1lbnQgSUQgb2YgdGhlIG91dHB1dCBkaXNwbGF5LgogKiBAcmV0dXJuIHshSXRlcmFibGU8IU9iamVjdD59IEl0ZXJhYmxlIG9mIG5leHQgc3RlcHMuCiAqLwpmdW5jdGlvbiogdXBsb2FkRmlsZXNTdGVwKGlucHV0SWQsIG91dHB1dElkKSB7CiAgY29uc3QgaW5wdXRFbGVtZW50ID0gZG9jdW1lbnQuZ2V0RWxlbWVudEJ5SWQoaW5wdXRJZCk7CiAgaW5wdXRFbGVtZW50LmRpc2FibGVkID0gZmFsc2U7CgogIGNvbnN0IG91dHB1dEVsZW1lbnQgPSBkb2N1bWVudC5nZXRFbGVtZW50QnlJZChvdXRwdXRJZCk7CiAgb3V0cHV0RWxlbWVudC5pbm5lckhUTUwgPSAnJzsKCiAgY29uc3QgcGlja2VkUHJvbWlzZSA9IG5ldyBQcm9taXNlKChyZXNvbHZlKSA9PiB7CiAgICBpbnB1dEVsZW1lbnQuYWRkRXZlbnRMaXN0ZW5lcignY2hhbmdlJywgKGUpID0+IHsKICAgICAgcmVzb2x2ZShlLnRhcmdldC5maWxlcyk7CiAgICB9KTsKICB9KTsKCiAgY29uc3QgY2FuY2VsID0gZG9jdW1lbnQuY3JlYXRlRWxlbWVudCgnYnV0dG9uJyk7CiAgaW5wdXRFbGVtZW50LnBhcmVudEVsZW1lbnQuYXBwZW5kQ2hpbGQoY2FuY2VsKTsKICBjYW5jZWwudGV4dENvbnRlbnQgPSAnQ2FuY2VsIHVwbG9hZCc7CiAgY29uc3QgY2FuY2VsUHJvbWlzZSA9IG5ldyBQcm9taXNlKChyZXNvbHZlKSA9PiB7CiAgICBjYW5jZWwub25jbGljayA9ICgpID0+IHsKICAgICAgcmVzb2x2ZShudWxsKTsKICAgIH07CiAgfSk7CgogIC8vIENhbmNlbCB1cGxvYWQgaWYgdXNlciBoYXNuJ3QgcGlja2VkIGFueXRoaW5nIGluIHRpbWVvdXQuCiAgY29uc3QgdGltZW91dFByb21pc2UgPSBuZXcgUHJvbWlzZSgocmVzb2x2ZSkgPT4gewogICAgc2V0VGltZW91dCgoKSA9PiB7CiAgICAgIHJlc29sdmUobnVsbCk7CiAgICB9LCBGSUxFX0NIQU5HRV9USU1FT1VUX01TKTsKICB9KTsKCiAgLy8gV2FpdCBmb3IgdGhlIHVzZXIgdG8gcGljayB0aGUgZmlsZXMuCiAgY29uc3QgZmlsZXMgPSB5aWVsZCB7CiAgICBwcm9taXNlOiBQcm9taXNlLnJhY2UoW3BpY2tlZFByb21pc2UsIHRpbWVvdXRQcm9taXNlLCBjYW5jZWxQcm9taXNlXSksCiAgICByZXNwb25zZTogewogICAgICBhY3Rpb246ICdzdGFydGluZycsCiAgICB9CiAgfTsKCiAgaWYgKCFmaWxlcykgewogICAgcmV0dXJuIHsKICAgICAgcmVzcG9uc2U6IHsKICAgICAgICBhY3Rpb246ICdjb21wbGV0ZScsCiAgICAgIH0KICAgIH07CiAgfQoKICBjYW5jZWwucmVtb3ZlKCk7CgogIC8vIERpc2FibGUgdGhlIGlucHV0IGVsZW1lbnQgc2luY2UgZnVydGhlciBwaWNrcyBhcmUgbm90IGFsbG93ZWQuCiAgaW5wdXRFbGVtZW50LmRpc2FibGVkID0gdHJ1ZTsKCiAgZm9yIChjb25zdCBmaWxlIG9mIGZpbGVzKSB7CiAgICBjb25zdCBsaSA9IGRvY3VtZW50LmNyZWF0ZUVsZW1lbnQoJ2xpJyk7CiAgICBsaS5hcHBlbmQoc3BhbihmaWxlLm5hbWUsIHtmb250V2VpZ2h0OiAnYm9sZCd9KSk7CiAgICBsaS5hcHBlbmQoc3BhbigKICAgICAgICBgKCR7ZmlsZS50eXBlIHx8ICduL2EnfSkgLSAke2ZpbGUuc2l6ZX0gYnl0ZXMsIGAgKwogICAgICAgIGBsYXN0IG1vZGlmaWVkOiAkewogICAgICAgICAgICBmaWxlLmxhc3RNb2RpZmllZERhdGUgPyBmaWxlLmxhc3RNb2RpZmllZERhdGUudG9Mb2NhbGVEYXRlU3RyaW5nKCkgOgogICAgICAgICAgICAgICAgICAgICAgICAgICAgICAgICAgICAnbi9hJ30gLSBgKSk7CiAgICBjb25zdCBwZXJjZW50ID0gc3BhbignMCUgZG9uZScpOwogICAgbGkuYXBwZW5kQ2hpbGQocGVyY2VudCk7CgogICAgb3V0cHV0RWxlbWVudC5hcHBlbmRDaGlsZChsaSk7CgogICAgY29uc3QgZmlsZURhdGFQcm9taXNlID0gbmV3IFByb21pc2UoKHJlc29sdmUpID0+IHsKICAgICAgY29uc3QgcmVhZGVyID0gbmV3IEZpbGVSZWFkZXIoKTsKICAgICAgcmVhZGVyLm9ubG9hZCA9IChlKSA9PiB7CiAgICAgICAgcmVzb2x2ZShlLnRhcmdldC5yZXN1bHQpOwogICAgICB9OwogICAgICByZWFkZXIucmVhZEFzQXJyYXlCdWZmZXIoZmlsZSk7CiAgICB9KTsKICAgIC8vIFdhaXQgZm9yIHRoZSBkYXRhIHRvIGJlIHJlYWR5LgogICAgbGV0IGZpbGVEYXRhID0geWllbGQgewogICAgICBwcm9taXNlOiBmaWxlRGF0YVByb21pc2UsCiAgICAgIHJlc3BvbnNlOiB7CiAgICAgICAgYWN0aW9uOiAnY29udGludWUnLAogICAgICB9CiAgICB9OwoKICAgIC8vIFVzZSBhIGNodW5rZWQgc2VuZGluZyB0byBhdm9pZCBtZXNzYWdlIHNpemUgbGltaXRzLiBTZWUgYi82MjExNTY2MC4KICAgIGxldCBwb3NpdGlvbiA9IDA7CiAgICB3aGlsZSAocG9zaXRpb24gPCBmaWxlRGF0YS5ieXRlTGVuZ3RoKSB7CiAgICAgIGNvbnN0IGxlbmd0aCA9IE1hdGgubWluKGZpbGVEYXRhLmJ5dGVMZW5ndGggLSBwb3NpdGlvbiwgTUFYX1BBWUxPQURfU0laRSk7CiAgICAgIGNvbnN0IGNodW5rID0gbmV3IFVpbnQ4QXJyYXkoZmlsZURhdGEsIHBvc2l0aW9uLCBsZW5ndGgpOwogICAgICBwb3NpdGlvbiArPSBsZW5ndGg7CgogICAgICBjb25zdCBiYXNlNjQgPSBidG9hKFN0cmluZy5mcm9tQ2hhckNvZGUuYXBwbHkobnVsbCwgY2h1bmspKTsKICAgICAgeWllbGQgewogICAgICAgIHJlc3BvbnNlOiB7CiAgICAgICAgICBhY3Rpb246ICdhcHBlbmQnLAogICAgICAgICAgZmlsZTogZmlsZS5uYW1lLAogICAgICAgICAgZGF0YTogYmFzZTY0LAogICAgICAgIH0sCiAgICAgIH07CiAgICAgIHBlcmNlbnQudGV4dENvbnRlbnQgPQogICAgICAgICAgYCR7TWF0aC5yb3VuZCgocG9zaXRpb24gLyBmaWxlRGF0YS5ieXRlTGVuZ3RoKSAqIDEwMCl9JSBkb25lYDsKICAgIH0KICB9CgogIC8vIEFsbCBkb25lLgogIHlpZWxkIHsKICAgIHJlc3BvbnNlOiB7CiAgICAgIGFjdGlvbjogJ2NvbXBsZXRlJywKICAgIH0KICB9Owp9CgpzY29wZS5nb29nbGUgPSBzY29wZS5nb29nbGUgfHwge307CnNjb3BlLmdvb2dsZS5jb2xhYiA9IHNjb3BlLmdvb2dsZS5jb2xhYiB8fCB7fTsKc2NvcGUuZ29vZ2xlLmNvbGFiLl9maWxlcyA9IHsKICBfdXBsb2FkRmlsZXMsCiAgX3VwbG9hZEZpbGVzQ29udGludWUsCn07Cn0pKHNlbGYpOwo=",
              "ok": true,
              "headers": [
                [
                  "content-type",
                  "application/javascript"
                ]
              ],
              "status": 200,
              "status_text": ""
            }
          },
          "base_uri": "https://localhost:8080/",
          "height": 74
        },
        "outputId": "4580c60e-2be7-4e5c-9bac-d36dd633e625"
      },
      "source": [
        "from google.colab import files\n",
        "uploaded = files.upload()"
      ],
      "execution_count": 16,
      "outputs": [
        {
          "output_type": "display_data",
          "data": {
            "text/html": [
              "\n",
              "     <input type=\"file\" id=\"files-fa5804f0-ac81-47be-9e48-6299f23e3c87\" name=\"files[]\" multiple disabled />\n",
              "     <output id=\"result-fa5804f0-ac81-47be-9e48-6299f23e3c87\">\n",
              "      Upload widget is only available when the cell has been executed in the\n",
              "      current browser session. Please rerun this cell to enable.\n",
              "      </output>\n",
              "      <script src=\"/nbextensions/google.colab/files.js\"></script> "
            ],
            "text/plain": [
              "<IPython.core.display.HTML object>"
            ]
          },
          "metadata": {
            "tags": []
          }
        },
        {
          "output_type": "stream",
          "text": [
            "Saving covid19.csv to covid19 (2).csv\n"
          ],
          "name": "stdout"
        }
      ]
    },
    {
      "cell_type": "code",
      "metadata": {
        "id": "oCOpJaLWBHLB",
        "colab_type": "code",
        "colab": {}
      },
      "source": [
        "import io\n",
        "df = pd.read_csv(io.BytesIO(uploaded['covid19.csv']))"
      ],
      "execution_count": 0,
      "outputs": []
    },
    {
      "cell_type": "markdown",
      "metadata": {
        "id": "9GpW-9AqeIJr",
        "colab_type": "text"
      },
      "source": [
        "**Exploring Infection and Death Rates in Hubei**"
      ]
    },
    {
      "cell_type": "markdown",
      "metadata": {
        "id": "ig7b9DxByzL1",
        "colab_type": "text"
      },
      "source": [
        "China, specifically the region of Hubei (which contains Wuhan), was the first area to get badly hit by the coronavirus, and is unique in China as an area that did not practice any form of social distancing for at least a couple months. \n",
        "\n",
        "As the region of the world with the most data since the beginning of the coronavirus outbreak, we'll start our exploration of the coronavirus by looking into what we can learn from Hubei.\n",
        "\n",
        "First, though, we're going to create a few functions to help us sort out data."
      ]
    },
    {
      "cell_type": "code",
      "metadata": {
        "id": "IhLKJvxGeTmv",
        "colab_type": "code",
        "colab": {}
      },
      "source": [
        "# a function to get all confirmed cases in a dataframe limited to one area\n",
        "def get_confirmed_cases(row, df_area):\n",
        "  columns = []\n",
        "  for col in df_area:\n",
        "    if \"Confirmed\" in col:\n",
        "      columns.append(col)\n",
        "  return df.loc[[row], columns]\n",
        "\n",
        "# a function to get all deaths in a dataframe limited to one area\n",
        "def get_deaths(row, df_area):\n",
        "  columns = []\n",
        "  for col in df_area:\n",
        "    if \"Deaths\" in col:\n",
        "      columns.append(col)\n",
        "  return df.loc[[row], columns]\n",
        "\n",
        "# method for appropriately renaming columns and transposing data\n",
        "def transpose(df, col_name, row):\n",
        "  df.rename(columns={col_name: \"03-10\"}, inplace=True)\n",
        "  for col in df:\n",
        "    new_col = col.replace((\"%s_\" % col_name), \"\")\n",
        "    df.rename(columns={col: new_col}, inplace=True)\n",
        "  df = df.T\n",
        "  df.rename(columns={row: col_name}, inplace=True)\n",
        "  df.sort_values(by=col_name, ascending=True, inplace=True)\n",
        "  return df"
      ],
      "execution_count": 0,
      "outputs": []
    },
    {
      "cell_type": "markdown",
      "metadata": {
        "id": "EX5EUpHm0G_B",
        "colab_type": "text"
      },
      "source": [
        "Let's visualize the number of confirmed cases in Hubei over time."
      ]
    },
    {
      "cell_type": "code",
      "metadata": {
        "id": "uHs2-tZCgUQZ",
        "colab_type": "code",
        "outputId": "41191ef8-425f-4378-e09b-5070b992342e",
        "colab": {
          "base_uri": "https://localhost:8080/",
          "height": 114
        }
      },
      "source": [
        "df_hubei_confirmed = get_confirmed_cases(0, df)\n",
        "df_hubei_confirmed"
      ],
      "execution_count": 19,
      "outputs": [
        {
          "output_type": "execute_result",
          "data": {
            "text/html": [
              "<div>\n",
              "<style scoped>\n",
              "    .dataframe tbody tr th:only-of-type {\n",
              "        vertical-align: middle;\n",
              "    }\n",
              "\n",
              "    .dataframe tbody tr th {\n",
              "        vertical-align: top;\n",
              "    }\n",
              "\n",
              "    .dataframe thead th {\n",
              "        text-align: right;\n",
              "    }\n",
              "</style>\n",
              "<table border=\"1\" class=\"dataframe\">\n",
              "  <thead>\n",
              "    <tr style=\"text-align: right;\">\n",
              "      <th></th>\n",
              "      <th>Confirmed</th>\n",
              "      <th>Confirmed_03-9</th>\n",
              "      <th>Confirmed_03-8</th>\n",
              "      <th>Confirmed_03-7</th>\n",
              "      <th>Confirmed_03-6</th>\n",
              "      <th>Confirmed_03-5</th>\n",
              "      <th>Confirmed_03-4</th>\n",
              "      <th>Confirmed_03-3</th>\n",
              "      <th>Confirmed_03-2</th>\n",
              "      <th>Confirmed_03-1</th>\n",
              "      <th>Confirmed_02-29</th>\n",
              "      <th>Confirmed_02-28</th>\n",
              "      <th>Confirmed_02-27</th>\n",
              "      <th>Confirmed_02-26</th>\n",
              "      <th>Confirmed_02-25</th>\n",
              "      <th>Confirmed_02-24</th>\n",
              "      <th>Confirmed_02-23</th>\n",
              "      <th>Confirmed_02-22</th>\n",
              "      <th>Confirmed_02-21</th>\n",
              "      <th>Confirmed_02-20</th>\n",
              "      <th>Confirmed_02-19</th>\n",
              "      <th>Confirmed_02-18</th>\n",
              "      <th>Confirmed_02-17</th>\n",
              "      <th>Confirmed_02-16</th>\n",
              "      <th>Confirmed_02-15</th>\n",
              "      <th>Confirmed_02-14</th>\n",
              "      <th>Confirmed_02-13</th>\n",
              "      <th>Confirmed_02-12</th>\n",
              "      <th>Confirmed_02-11</th>\n",
              "      <th>Confirmed_02-10</th>\n",
              "      <th>Confirmed_02-9</th>\n",
              "      <th>Confirmed_02-8</th>\n",
              "      <th>Confirmed_02-7</th>\n",
              "      <th>Confirmed_02-6</th>\n",
              "      <th>Confirmed_02-5</th>\n",
              "      <th>Confirmed_02-4</th>\n",
              "      <th>Confirmed_02-3</th>\n",
              "      <th>Confirmed_02-2</th>\n",
              "      <th>Confirmed_02-1</th>\n",
              "      <th>Confirmed_01-31</th>\n",
              "      <th>Confirmed_01-30</th>\n",
              "      <th>Confirmed_01-29</th>\n",
              "      <th>Confirmed_01-28</th>\n",
              "      <th>Confirmed_01-27</th>\n",
              "      <th>Confirmed_01-26</th>\n",
              "      <th>Confirmed_01-25</th>\n",
              "      <th>Confirmed_01-24</th>\n",
              "      <th>Confirmed_01-23</th>\n",
              "      <th>Confirmed_01-22</th>\n",
              "    </tr>\n",
              "  </thead>\n",
              "  <tbody>\n",
              "    <tr>\n",
              "      <th>0</th>\n",
              "      <td>67760</td>\n",
              "      <td>67743.0</td>\n",
              "      <td>67707.0</td>\n",
              "      <td>67666.0</td>\n",
              "      <td>67592.0</td>\n",
              "      <td>67466.0</td>\n",
              "      <td>67332.0</td>\n",
              "      <td>67217.0</td>\n",
              "      <td>67103.0</td>\n",
              "      <td>66907.0</td>\n",
              "      <td>66337.0</td>\n",
              "      <td>65914.0</td>\n",
              "      <td>65596.0</td>\n",
              "      <td>65187.0</td>\n",
              "      <td>64786.0</td>\n",
              "      <td>64287.0</td>\n",
              "      <td>64084.0</td>\n",
              "      <td>64084.0</td>\n",
              "      <td>62662.0</td>\n",
              "      <td>62442.0</td>\n",
              "      <td>62031.0</td>\n",
              "      <td>61682.0</td>\n",
              "      <td>59989.0</td>\n",
              "      <td>58182.0</td>\n",
              "      <td>56249.0</td>\n",
              "      <td>54406.0</td>\n",
              "      <td>48206.0</td>\n",
              "      <td>33366.0</td>\n",
              "      <td>33366.0</td>\n",
              "      <td>31728.0</td>\n",
              "      <td>29631.0</td>\n",
              "      <td>27100.0</td>\n",
              "      <td>24953.0</td>\n",
              "      <td>22112.0</td>\n",
              "      <td>19665.0</td>\n",
              "      <td>16678.0</td>\n",
              "      <td>13522.0</td>\n",
              "      <td>11177.0</td>\n",
              "      <td>7153.0</td>\n",
              "      <td>5806.0</td>\n",
              "      <td>4903.0</td>\n",
              "      <td>3554.0</td>\n",
              "      <td>3554.0</td>\n",
              "      <td>1423.0</td>\n",
              "      <td>1058.0</td>\n",
              "      <td>761.0</td>\n",
              "      <td>549.0</td>\n",
              "      <td>444.0</td>\n",
              "      <td>444.0</td>\n",
              "    </tr>\n",
              "  </tbody>\n",
              "</table>\n",
              "</div>"
            ],
            "text/plain": [
              "   Confirmed  Confirmed_03-9  ...  Confirmed_01-23  Confirmed_01-22\n",
              "0      67760         67743.0  ...            444.0            444.0\n",
              "\n",
              "[1 rows x 49 columns]"
            ]
          },
          "metadata": {
            "tags": []
          },
          "execution_count": 19
        }
      ]
    },
    {
      "cell_type": "code",
      "metadata": {
        "id": "HHE2K6lDpcvv",
        "colab_type": "code",
        "outputId": "b5a3fc7b-8999-4059-cc11-f3c81972d412",
        "colab": {
          "base_uri": "https://localhost:8080/",
          "height": 283
        }
      },
      "source": [
        "df_hubei_confirmed = transpose(df_hubei_confirmed, \"Confirmed\", 0)\n",
        "df_hubei_confirmed.plot()"
      ],
      "execution_count": 20,
      "outputs": [
        {
          "output_type": "execute_result",
          "data": {
            "text/plain": [
              "<matplotlib.axes._subplots.AxesSubplot at 0x7fdef0f775c0>"
            ]
          },
          "metadata": {
            "tags": []
          },
          "execution_count": 20
        },
        {
          "output_type": "display_data",
          "data": {
            "image/png": "[encoded data removed]",
            "text/plain": [
              "<Figure size 432x288 with 1 Axes>"
            ]
          },
          "metadata": {
            "tags": []
          }
        }
      ]
    },
    {
      "cell_type": "markdown",
      "metadata": {
        "id": "tBg-bpft0Mto",
        "colab_type": "text"
      },
      "source": [
        "Now, let's do the same for number of deaths."
      ]
    },
    {
      "cell_type": "code",
      "metadata": {
        "id": "vsybdUHBgyyZ",
        "colab_type": "code",
        "outputId": "29e53734-e6f9-48e6-a2f0-b300e20f51d5",
        "colab": {
          "base_uri": "https://localhost:8080/",
          "height": 114
        }
      },
      "source": [
        "df_hubei_deaths = get_deaths(0, df)\n",
        "df_hubei_deaths"
      ],
      "execution_count": 21,
      "outputs": [
        {
          "output_type": "execute_result",
          "data": {
            "text/html": [
              "<div>\n",
              "<style scoped>\n",
              "    .dataframe tbody tr th:only-of-type {\n",
              "        vertical-align: middle;\n",
              "    }\n",
              "\n",
              "    .dataframe tbody tr th {\n",
              "        vertical-align: top;\n",
              "    }\n",
              "\n",
              "    .dataframe thead th {\n",
              "        text-align: right;\n",
              "    }\n",
              "</style>\n",
              "<table border=\"1\" class=\"dataframe\">\n",
              "  <thead>\n",
              "    <tr style=\"text-align: right;\">\n",
              "      <th></th>\n",
              "      <th>Deaths</th>\n",
              "      <th>Deaths_03-9</th>\n",
              "      <th>Deaths_03-8</th>\n",
              "      <th>Deaths_03-7</th>\n",
              "      <th>Deaths_03-6</th>\n",
              "      <th>Deaths_03-5</th>\n",
              "      <th>Deaths_03-4</th>\n",
              "      <th>Deaths_03-3</th>\n",
              "      <th>Deaths_03-2</th>\n",
              "      <th>Deaths_03-1</th>\n",
              "      <th>Deaths_02-29</th>\n",
              "      <th>Deaths_02-28</th>\n",
              "      <th>Deaths_02-27</th>\n",
              "      <th>Deaths_02-26</th>\n",
              "      <th>Deaths_02-25</th>\n",
              "      <th>Deaths_02-24</th>\n",
              "      <th>Deaths_02-23</th>\n",
              "      <th>Deaths_02-22</th>\n",
              "      <th>Deaths_02-21</th>\n",
              "      <th>Deaths_02-20</th>\n",
              "      <th>Deaths_02-19</th>\n",
              "      <th>Deaths_02-18</th>\n",
              "      <th>Deaths_02-17</th>\n",
              "      <th>Deaths_02-16</th>\n",
              "      <th>Deaths_02-15</th>\n",
              "      <th>Deaths_02-14</th>\n",
              "      <th>Deaths_02-13</th>\n",
              "      <th>Deaths_02-12</th>\n",
              "      <th>Deaths_02-11</th>\n",
              "      <th>Deaths_02-10</th>\n",
              "      <th>Deaths_02-9</th>\n",
              "      <th>Deaths_02-8</th>\n",
              "      <th>Deaths_02-7</th>\n",
              "      <th>Deaths_02-6</th>\n",
              "      <th>Deaths_02-5</th>\n",
              "      <th>Deaths_02-4</th>\n",
              "      <th>Deaths_02-3</th>\n",
              "      <th>Deaths_02-2</th>\n",
              "      <th>Deaths_02-1</th>\n",
              "      <th>Deaths_01-31</th>\n",
              "      <th>Deaths_01-30</th>\n",
              "      <th>Deaths_01-29</th>\n",
              "      <th>Deaths_01-28</th>\n",
              "      <th>Deaths_01-27</th>\n",
              "      <th>Deaths_01-26</th>\n",
              "      <th>Deaths_01-25</th>\n",
              "      <th>Deaths_01-24</th>\n",
              "      <th>Deaths_01-23</th>\n",
              "      <th>Deaths_01-22</th>\n",
              "    </tr>\n",
              "  </thead>\n",
              "  <tbody>\n",
              "    <tr>\n",
              "      <th>0</th>\n",
              "      <td>3024</td>\n",
              "      <td>3008.0</td>\n",
              "      <td>2986.0</td>\n",
              "      <td>2959.0</td>\n",
              "      <td>2931.0</td>\n",
              "      <td>2902.0</td>\n",
              "      <td>2871.0</td>\n",
              "      <td>2835.0</td>\n",
              "      <td>2803.0</td>\n",
              "      <td>2761.0</td>\n",
              "      <td>2727.0</td>\n",
              "      <td>2682.0</td>\n",
              "      <td>2641.0</td>\n",
              "      <td>2615.0</td>\n",
              "      <td>2563.0</td>\n",
              "      <td>2495.0</td>\n",
              "      <td>2346.0</td>\n",
              "      <td>2346.0</td>\n",
              "      <td>2144.0</td>\n",
              "      <td>2144.0</td>\n",
              "      <td>2029.0</td>\n",
              "      <td>1921.0</td>\n",
              "      <td>1789.0</td>\n",
              "      <td>1696.0</td>\n",
              "      <td>1596.0</td>\n",
              "      <td>1457.0</td>\n",
              "      <td>1310.0</td>\n",
              "      <td>1068.0</td>\n",
              "      <td>1068.0</td>\n",
              "      <td>974.0</td>\n",
              "      <td>871.0</td>\n",
              "      <td>780.0</td>\n",
              "      <td>699.0</td>\n",
              "      <td>618.0</td>\n",
              "      <td>549.0</td>\n",
              "      <td>479.0</td>\n",
              "      <td>414.0</td>\n",
              "      <td>350.0</td>\n",
              "      <td>249.0</td>\n",
              "      <td>204.0</td>\n",
              "      <td>162.0</td>\n",
              "      <td>125.0</td>\n",
              "      <td>125.0</td>\n",
              "      <td>76.0</td>\n",
              "      <td>52.0</td>\n",
              "      <td>40.0</td>\n",
              "      <td>24.0</td>\n",
              "      <td>17.0</td>\n",
              "      <td>17.0</td>\n",
              "    </tr>\n",
              "  </tbody>\n",
              "</table>\n",
              "</div>"
            ],
            "text/plain": [
              "   Deaths  Deaths_03-9  Deaths_03-8  ...  Deaths_01-24  Deaths_01-23  Deaths_01-22\n",
              "0    3024       3008.0       2986.0  ...          24.0          17.0          17.0\n",
              "\n",
              "[1 rows x 49 columns]"
            ]
          },
          "metadata": {
            "tags": []
          },
          "execution_count": 21
        }
      ]
    },
    {
      "cell_type": "code",
      "metadata": {
        "id": "hyunGQiEkomR",
        "colab_type": "code",
        "outputId": "adafaf3e-46d8-4cd0-af63-70f799805c03",
        "colab": {
          "base_uri": "https://localhost:8080/",
          "height": 282
        }
      },
      "source": [
        "df_hubei_deaths = transpose(df_hubei_deaths, \"Deaths\", 0)\n",
        "df_hubei_deaths.plot()"
      ],
      "execution_count": 22,
      "outputs": [
        {
          "output_type": "execute_result",
          "data": {
            "text/plain": [
              "<matplotlib.axes._subplots.AxesSubplot at 0x7fdef0f59320>"
            ]
          },
          "metadata": {
            "tags": []
          },
          "execution_count": 22
        },
        {
          "output_type": "display_data",
          "data": {
            "image/png": "[encoded data removed]",
            "text/plain": [
              "<Figure size 432x288 with 1 Axes>"
            ]
          },
          "metadata": {
            "tags": []
          }
        }
      ]
    },
    {
      "cell_type": "markdown",
      "metadata": {
        "id": "-iOP00AE0Rco",
        "colab_type": "text"
      },
      "source": [
        "Let's calculate the overall mortality rate over time by dividing the number of deaths over the confirmed cases."
      ]
    },
    {
      "cell_type": "code",
      "metadata": {
        "id": "tgSamrg2ryov",
        "colab_type": "code",
        "outputId": "bbbd619f-db5f-4e73-aeeb-d4e11d83e67e",
        "colab": {
          "base_uri": "https://localhost:8080/",
          "height": 282
        }
      },
      "source": [
        "df_hubei_mortality = pd.DataFrame()\n",
        "df_hubei_mortality[\"Mortality\"] = df_hubei_deaths[\"Deaths\"]/df_hubei_confirmed[\"Confirmed\"]\n",
        "df_hubei_mortality.plot() # deaths over confirmed cases"
      ],
      "execution_count": 23,
      "outputs": [
        {
          "output_type": "execute_result",
          "data": {
            "text/plain": [
              "<matplotlib.axes._subplots.AxesSubplot at 0x7fdef2a82cc0>"
            ]
          },
          "metadata": {
            "tags": []
          },
          "execution_count": 23
        },
        {
          "output_type": "display_data",
          "data": {
            "image/png": "[encoded data removed]",
            "text/plain": [
              "<Figure size 432x288 with 1 Axes>"
            ]
          },
          "metadata": {
            "tags": []
          }
        }
      ]
    },
    {
      "cell_type": "markdown",
      "metadata": {
        "id": "UyvSnCHb0XQp",
        "colab_type": "text"
      },
      "source": [
        "This graph is interesting-- it starts off as wildly fluctating before settling towards the 4.5% mortality that has been noted in some articles about coronavirus. This is explained by the much smaller and less reliable amount of data nearer to the beginning of the outbreak.\n",
        "\n",
        "A trend we can expect to see in most countries is that at the beginning of an outbreak in a region there are relatively few individuals tested and likely proportionally more will be in critical condition. As more tests are performed, the calculated mortality rate will see a steep drop-off before giving us a more accurate predictor. "
      ]
    },
    {
      "cell_type": "markdown",
      "metadata": {
        "id": "eL_IZ7nwBTUN",
        "colab_type": "text"
      },
      "source": [
        "**Exploring Infection and Death Rates in Italy**"
      ]
    },
    {
      "cell_type": "markdown",
      "metadata": {
        "id": "6aure-EQ2CCj",
        "colab_type": "text"
      },
      "source": [
        "We're going to explore the coronavirus spread in Italy in the same way we just did with Hubei.\n",
        "\n",
        "Italy is significant here as a region that didn't do a good job social distancing. We're going to use it as an example later on for what the US could look like if we don't social distance well enough."
      ]
    },
    {
      "cell_type": "code",
      "metadata": {
        "id": "ge8SORp5Fkc9",
        "colab_type": "code",
        "outputId": "e256f999-1f2e-403d-dba0-2c3f68d30ad5",
        "colab": {
          "base_uri": "https://localhost:8080/",
          "height": 282
        }
      },
      "source": [
        "df_italy_confirmed = get_confirmed_cases(1, df)\n",
        "df_italy_confirmed = transpose(df_italy_confirmed, \"Confirmed\", 1)\n",
        "#necessary because cases don't start immediately:\n",
        "df_italy_confirmed.dropna(inplace=True) \n",
        "df_italy_confirmed.plot()"
      ],
      "execution_count": 28,
      "outputs": [
        {
          "output_type": "execute_result",
          "data": {
            "text/plain": [
              "<matplotlib.axes._subplots.AxesSubplot at 0x7fdef0d59390>"
            ]
          },
          "metadata": {
            "tags": []
          },
          "execution_count": 28
        },
        {
          "output_type": "display_data",
          "data": {
            "image/png": "[encoded data removed]",
            "text/plain": [
              "<Figure size 432x288 with 1 Axes>"
            ]
          },
          "metadata": {
            "tags": []
          }
        }
      ]
    },
    {
      "cell_type": "code",
      "metadata": {
        "id": "yndZ1NO-1X2x",
        "colab_type": "code",
        "colab": {
          "base_uri": "https://localhost:8080/",
          "height": 282
        },
        "outputId": "dc0aef26-167e-4a78-8f60-467b4645aa1a"
      },
      "source": [
        "df_italy_deaths = get_deaths(1, df)\n",
        "df_italy_deaths = transpose(df_italy_deaths, \"Deaths\", 1)\n",
        "df_italy_deaths.dropna(inplace=True)\n",
        "df_italy_deaths.sort_values(by=\"Deaths\", ascending=True, inplace=True)\n",
        "df_italy_deaths.plot()"
      ],
      "execution_count": 29,
      "outputs": [
        {
          "output_type": "execute_result",
          "data": {
            "text/plain": [
              "<matplotlib.axes._subplots.AxesSubplot at 0x7fdef0cb8518>"
            ]
          },
          "metadata": {
            "tags": []
          },
          "execution_count": 29
        },
        {
          "output_type": "display_data",
          "data": {
            "image/png": "[encoded data removed]",
            "text/plain": [
              "<Figure size 432x288 with 1 Axes>"
            ]
          },
          "metadata": {
            "tags": []
          }
        }
      ]
    },
    {
      "cell_type": "code",
      "metadata": {
        "id": "lugvOBeD1aQn",
        "colab_type": "code",
        "colab": {
          "base_uri": "https://localhost:8080/",
          "height": 282
        },
        "outputId": "009b5fc8-8a18-425a-ab04-550d32f8aa05"
      },
      "source": [
        "df_italy_mortality = pd.DataFrame()\n",
        "df_italy_mortality[\"Mortality\"] = df_italy_deaths[\"Deaths\"]/df_italy_confirmed[\"Confirmed\"]\n",
        "df_italy_mortality.plot() "
      ],
      "execution_count": 30,
      "outputs": [
        {
          "output_type": "execute_result",
          "data": {
            "text/plain": [
              "<matplotlib.axes._subplots.AxesSubplot at 0x7fdef0ca00b8>"
            ]
          },
          "metadata": {
            "tags": []
          },
          "execution_count": 30
        },
        {
          "output_type": "display_data",
          "data": {
            "image/png": "[encoded data removed]",
            "text/plain": [
              "<Figure size 432x288 with 1 Axes>"
            ]
          },
          "metadata": {
            "tags": []
          }
        }
      ]
    },
    {
      "cell_type": "markdown",
      "metadata": {
        "id": "yN3qFc_xGlQz",
        "colab_type": "text"
      },
      "source": [
        "**Data Exploration with Singapore**"
      ]
    },
    {
      "cell_type": "markdown",
      "metadata": {
        "id": "ZJNqj2fa2hjS",
        "colab_type": "text"
      },
      "source": [
        "Singapore is important as a country that has done a good job preparing and making use of social distancing practice. But, because the outbreak only started relatively recently, there actually has been no deaths yet! So, we'll only calculate and visualize the number of confirmed cases, which is what we're most concerned with, anyway."
      ]
    },
    {
      "cell_type": "code",
      "metadata": {
        "id": "3XrGzAGCLcpn",
        "colab_type": "code",
        "outputId": "a980ca2c-4eda-46ba-efa9-cc1df6c8b184",
        "colab": {
          "base_uri": "https://localhost:8080/",
          "height": 282
        }
      },
      "source": [
        "df_singapore_confirmed = get_confirmed_cases(34, df)\n",
        "df_singapore_confirmed = transpose(df_singapore_confirmed, \"Confirmed\", 34)\n",
        "df_singapore_confirmed.dropna(inplace=True)\n",
        "df_singapore_confirmed.plot()"
      ],
      "execution_count": 27,
      "outputs": [
        {
          "output_type": "execute_result",
          "data": {
            "text/plain": [
              "<matplotlib.axes._subplots.AxesSubplot at 0x7fdef0d799b0>"
            ]
          },
          "metadata": {
            "tags": []
          },
          "execution_count": 27
        },
        {
          "output_type": "display_data",
          "data": {
            "image/png": "[encoded data removed]",
            "text/plain": [
              "<Figure size 432x288 with 1 Axes>"
            ]
          },
          "metadata": {
            "tags": []
          }
        }
      ]
    }
  ]
}